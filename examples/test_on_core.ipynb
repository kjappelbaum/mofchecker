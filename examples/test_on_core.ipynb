{
 "cells": [
  {
   "cell_type": "markdown",
   "metadata": {},
   "source": [
    "Just run some basics checks on CoRE-MOF"
   ]
  },
  {
   "cell_type": "code",
   "execution_count": 1,
   "metadata": {},
   "outputs": [],
   "source": [
    "from glob import glob \n",
    "from mofchecker import MOFChecker\n",
    "from mofchecker.errors import NoMetal\n",
    "import pandas as pd"
   ]
  },
  {
   "cell_type": "markdown",
   "metadata": {},
   "source": [
    "For this, we download the CoRE MOF from [Zenodo](https://zenodo.org/record/3528250), unzip and then get a list of all filepaths."
   ]
  },
  {
   "cell_type": "code",
   "execution_count": 3,
   "metadata": {},
   "outputs": [],
   "source": [
    "all_structures = glob('/Users/kevinmaikjablonka/Downloads/2019-11-01-ASR-public_12020/structure_10143/*.cif')"
   ]
  },
  {
   "cell_type": "code",
   "execution_count": null,
   "metadata": {},
   "outputs": [],
   "source": [
    "mof_features = []\n",
    "for structure in all_structures:\n",
    "    try:\n",
    "        mofchecker = MOFChecker.from_cif(structure)\n",
    "        mof_features.append(mofchecker.get_mof_descriptors())\n",
    "    except NoMetal: \n",
    "        print('{} has no metal'.format(structure))"
   ]
  },
  {
   "cell_type": "code",
   "execution_count": null,
   "metadata": {},
   "outputs": [],
   "source": [
    "df = pd.DataFrame(mof_features)"
   ]
  },
  {
   "cell_type": "code",
   "execution_count": null,
   "metadata": {},
   "outputs": [],
   "source": []
  }
 ],
 "metadata": {
  "kernelspec": {
   "display_name": "Python [conda env:omsdetector]",
   "language": "python",
   "name": "conda-env-omsdetector-py"
  },
  "language_info": {
   "codemirror_mode": {
    "name": "ipython",
    "version": 3
   },
   "file_extension": ".py",
   "mimetype": "text/x-python",
   "name": "python",
   "nbconvert_exporter": "python",
   "pygments_lexer": "ipython3",
   "version": "3.7.6"
  }
 },
 "nbformat": 4,
 "nbformat_minor": 4
}
